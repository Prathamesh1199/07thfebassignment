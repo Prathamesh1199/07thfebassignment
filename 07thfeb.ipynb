{
 "cells": [
  {
   "cell_type": "code",
   "execution_count": null,
   "id": "8ca9cb5d-34b7-4cfd-8c33-a790d553f108",
   "metadata": {},
   "outputs": [],
   "source": [
    "1: A code that implements the password validation rules as described:\n",
    "    \n",
    "    \n",
    "import re\n",
    "\n",
    "def check_password(password):\n",
    "   \n",
    "\n",
    " #check if the length of the password is 10 characters long                                      \n",
    "    if len(password) != 10:\n",
    "        return \"Invalid Password\"\n",
    "    \n",
    "    # ceck if password contains at least two uppercase letters and two lowercase letters\n",
    "    upper_count = 0\n",
    "    lower_count = 0\n",
    "    for char in password:\n",
    "        if char.isupper():\n",
    "            upper_count += 1\n",
    "        elif char.islower():\n",
    "            lower_count += 1\n",
    "    if upper_count < 2 or lower_count < 2:\n",
    "        return \"Invalid Password\"\n",
    "    \n",
    "    # Check if password contains at least a number and three special characters\n",
    "    digit_count = 0\n",
    "    special_char_count = 0\n",
    "    for char in password:\n",
    "        if char.isdigit():\n",
    "            digit_count += 1\n",
    "        elif not char.isalnum():\n",
    "            special_char_count += 1\n",
    "    if digit_count < 1 or special_char_count < 3:\n",
    "        return \"Invalid Password\"\n",
    "    \n",
    "    return \"Valid Password\"\n",
    "   \n",
    "    \n",
    "we can use this function to validate a passowrd entered by the user.\n",
    "if the password entered by the user follows all the validation rules, \n",
    "it return \"valid password\" otherwise \"invalid password\"...\n",
    "    \n",
    "    \n",
    "    \n",
    "    \n",
    "    \n",
    "    \n",
    "    "
   ]
  },
  {
   "cell_type": "code",
   "execution_count": null,
   "id": "76368af6-705c-41aa-97f0-3ab0a89ac084",
   "metadata": {},
   "outputs": [],
   "source": []
  },
  {
   "cell_type": "code",
   "execution_count": null,
   "id": "e7c910ff-0ea9-4213-a77b-1bf7d0039289",
   "metadata": {},
   "outputs": [],
   "source": [
    "2: In the given questions they are  many conditions to check, here iam using \n",
    "\"lamba functions\" to solve the given point...\n",
    "\n"
   ]
  },
  {
   "cell_type": "code",
   "execution_count": null,
   "id": "6dfa46a7-c1de-474a-b8e2-83ca0395bb89",
   "metadata": {},
   "outputs": [],
   "source": [
    "1.Check if the string starts with a particular letter:\n",
    "    \n",
    "string = \"Hello World!\"\n",
    "letter = \"H\"\n",
    "result = lambda x: True if x.startswith(letter) else False\n",
    "print(result(string))\n",
    "\n",
    "# Output: True"
   ]
  },
  {
   "cell_type": "code",
   "execution_count": null,
   "id": "7895355c-e270-421f-9edc-4aa429f17af6",
   "metadata": {},
   "outputs": [],
   "source": [
    "2.Check if the string is numeric:\n",
    "    \n",
    "string = \"12345\"\n",
    "result = lambda x: x.isnumeric()\n",
    "print(result(string))\n",
    "\n",
    "# Output: True\n",
    "    "
   ]
  },
  {
   "cell_type": "code",
   "execution_count": null,
   "id": "149cfa81-c2ab-4dd2-a6f0-3cfdb1166776",
   "metadata": {},
   "outputs": [],
   "source": [
    "3.Sort a list of tuples having fruit names and their quantity:\n",
    "    \n",
    "fruits = [(\"mango\",99),(\"orange\",80), (\"grapes\", 1000)]\n",
    "sorted_fruits = sorted(fruits, key=lambda x: x[1])\n",
    "print(sorted_fruits) \n",
    "\n",
    "# Output: [('orange', 80), ('mango', 99), ('grapes', 1000)]\n",
    "   \n",
    "    \n",
    "    "
   ]
  },
  {
   "cell_type": "code",
   "execution_count": null,
   "id": "df337825-b013-448e-82bb-b68261f74f41",
   "metadata": {},
   "outputs": [],
   "source": [
    "4.Find the squares of numbers from 1 to 10:\n",
    "    \n",
    "numbers = [1,2,3,4,5,6,7,8,9,10]\n",
    "squared_numbers = list(map(lambda x: x**2, numbers))\n",
    "print(squared_numbers)\n",
    "\n",
    "# Output: [1, 4, 9, 16, 25, 36, 49, 64, 81, 100]\n"
   ]
  },
  {
   "cell_type": "code",
   "execution_count": null,
   "id": "bec26e36-f3ff-47ec-8f21-8047a63063d5",
   "metadata": {},
   "outputs": [],
   "source": [
    "5.Find the cube root of numbers from 1 to 10:\n",
    "    \n",
    "import math\n",
    "numbers = [1,2,3,4,5,6,7,8,9,10]\n",
    "cuberoot_numbers = list(map(lambda x: round(math.pow(x,1/3),2), numbers))\n",
    "print(cuberoot_numbers)\n",
    "\n",
    "# Output: [1.0, 1.26, 1.44, 1.58, 1.71, 1.82, 1.92, 2.0, 2.08, 2.15]\n"
   ]
  },
  {
   "cell_type": "code",
   "execution_count": null,
   "id": "79c5fc60-067d-4c1a-a837-05b584ee6db3",
   "metadata": {},
   "outputs": [],
   "source": [
    "6.Check if a given number is even:\n",
    "    \n",
    "number = 4\n",
    "result = lambda x: True if x%2==0 else False\n",
    "print(result(number))\n",
    "\n",
    "# Output: True\n"
   ]
  },
  {
   "cell_type": "code",
   "execution_count": null,
   "id": "35988d65-08f8-452e-aa93-fae9ca339fc9",
   "metadata": {},
   "outputs": [],
   "source": [
    "7.Filter odd numbers from the given list:\n",
    "    \n",
    "l = [1, 2, 3, 4, 5, 6, 7, 8, 9, 10]\n",
    "odd_numbers = list(filter(lambda x: x % 2 != 0,l))\n",
    "print(odd_numbers)\n",
    "\n",
    "#output: [1, 3, 5, 7, 9]"
   ]
  },
  {
   "cell_type": "code",
   "execution_count": null,
   "id": "e421dff9-bdca-45dd-8322-95efffeaaa41",
   "metadata": {},
   "outputs": [],
   "source": [
    "8. Sort a list of integers into positive and negative integers lists:\n",
    "    \n",
    "    \n",
    "l= [1, 2, 3, 4, 5, 6, -1, -2, -3, -4, -5, 0]\n",
    "positive_numbers = list(filter(lambda x: x > 0, l))\n",
    "negative_numbers = list(filter(lambda x: x < 0, l))\n",
    "print(positive_numbers)\n",
    "\n",
    "# [1, 2, 3, 4, 5, 6]\n",
    "print(negative_numbers)\n",
    "\n",
    "# [-1, -2, -3, -4, -5]\n"
   ]
  }
 ],
 "metadata": {
  "kernelspec": {
   "display_name": "Python 3 (ipykernel)",
   "language": "python",
   "name": "python3"
  },
  "language_info": {
   "codemirror_mode": {
    "name": "ipython",
    "version": 3
   },
   "file_extension": ".py",
   "mimetype": "text/x-python",
   "name": "python",
   "nbconvert_exporter": "python",
   "pygments_lexer": "ipython3",
   "version": "3.10.8"
  }
 },
 "nbformat": 4,
 "nbformat_minor": 5
}
